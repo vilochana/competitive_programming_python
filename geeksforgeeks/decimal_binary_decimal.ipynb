{
 "cells": [
  {
   "cell_type": "code",
   "execution_count": null,
   "metadata": {},
   "outputs": [],
   "source": [
    "\n"
   ]
  },
  {
   "cell_type": "code",
   "execution_count": 1,
   "metadata": {},
   "outputs": [],
   "source": [
    "def binary_to_decimal(binary):\n",
    "    d = binary\n",
    "    decimal=0\n",
    "    i=0\n",
    "    while d>0:\n",
    "        d,r = divmod(d,10)\n",
    "        decimal+= pow(2,i)*r\n",
    "        i+=1\n",
    "    return decimal"
   ]
  },
  {
   "cell_type": "code",
   "execution_count": 2,
   "metadata": {},
   "outputs": [],
   "source": [
    "def decimal_to_binary(decimal):\n",
    "    d = decimal\n",
    "    binary =\"\"\n",
    "    while d>0:\n",
    "        d,r = divmod(d,2)\n",
    "        binary = binary+str(r)\n",
    "    binary= binary[::-1]\n",
    "    return binary"
   ]
  },
  {
   "cell_type": "code",
   "execution_count": 3,
   "metadata": {},
   "outputs": [
    {
     "name": "stdout",
     "output_type": "stream",
     "text": [
      "44\n",
      "101100\n"
     ]
    }
   ],
   "source": [
    "print(binary_to_decimal(101100))\n",
    "print(decimal_to_binary(44))"
   ]
  },
  {
   "cell_type": "code",
   "execution_count": null,
   "metadata": {},
   "outputs": [],
   "source": []
  },
  {
   "cell_type": "code",
   "execution_count": null,
   "metadata": {},
   "outputs": [],
   "source": []
  }
 ],
 "metadata": {
  "kernelspec": {
   "display_name": "Python 3",
   "language": "python",
   "name": "python3"
  },
  "language_info": {
   "codemirror_mode": {
    "name": "ipython",
    "version": 3
   },
   "file_extension": ".py",
   "mimetype": "text/x-python",
   "name": "python",
   "nbconvert_exporter": "python",
   "pygments_lexer": "ipython3",
   "version": "3.6.8"
  }
 },
 "nbformat": 4,
 "nbformat_minor": 2
}
