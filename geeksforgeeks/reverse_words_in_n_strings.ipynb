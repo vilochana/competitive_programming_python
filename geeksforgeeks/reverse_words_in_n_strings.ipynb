{
 "cells": [
  {
   "cell_type": "markdown",
   "metadata": {},
   "source": [
    "<a href=\"https://practice.geeksforgeeks.org/problems/reverse-words-in-a-given-string/0\" style=\"font-size:30px; color:tomato\"><b>Reverse words in n number of string<b/></a>"
   ]
  },
  {
   "cell_type": "markdown",
   "metadata": {},
   "source": [
    "Given a String of length S, reverse the whole string without reversing the individual words in it. Words are separated by dots.\n",
    "\n",
    "Input:\n",
    "The first line contains T denoting the number of testcases. T testcases follow. Each case contains a string S containing characters.\n",
    "\n",
    "Output:\n",
    "For each test case, in a new line, output a single line containing the reversed String.\n",
    "\n",
    "Constraints:\n",
    "1 <= T <= 100\n",
    "1 <= |S| <= 2000"
   ]
  },
  {
   "cell_type": "code",
   "execution_count": null,
   "metadata": {},
   "outputs": [],
   "source": [
    "#initial attempt\n",
    "def reverse_string1(string):\n",
    "        string_list = string.split(\".\")\n",
    "        new = [\".\".join(string_list[len(string_list)-1-i] for i in range(len(string_list)))]\n",
    "        return new[0]\n",
    "    \n",
    "n = input()\n",
    "for i in range(int(n)):\n",
    "    string = input()\n",
    "    print(reverse_string2(string))"
   ]
  },
  {
   "cell_type": "code",
   "execution_count": 81,
   "metadata": {},
   "outputs": [
    {
     "name": "stdout",
     "output_type": "stream",
     "text": [
      "1\n",
      "i.do.yes\n",
      "yes.do.i\n"
     ]
    }
   ],
   "source": [
    "#best \n",
    "t=int(input())\n",
    "while(t):\n",
    "    print(\".\".join(input().split(\".\")[::-1]))\n",
    "    t-=1"
   ]
  },
  {
   "cell_type": "code",
   "execution_count": null,
   "metadata": {},
   "outputs": [],
   "source": []
  }
 ],
 "metadata": {
  "kernelspec": {
   "display_name": "Python 3",
   "language": "python",
   "name": "python3"
  },
  "language_info": {
   "codemirror_mode": {
    "name": "ipython",
    "version": 3
   },
   "file_extension": ".py",
   "mimetype": "text/x-python",
   "name": "python",
   "nbconvert_exporter": "python",
   "pygments_lexer": "ipython3",
   "version": "3.6.8"
  }
 },
 "nbformat": 4,
 "nbformat_minor": 2
}
