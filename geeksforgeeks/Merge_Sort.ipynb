{
 "cells": [
  {
   "cell_type": "code",
   "execution_count": 274,
   "metadata": {},
   "outputs": [],
   "source": [
    "#merge sort"
   ]
  },
  {
   "cell_type": "code",
   "execution_count": 280,
   "metadata": {},
   "outputs": [],
   "source": [
    "array = [2,1,5,6,7,8,543,12,0,98,1,2,-1,-60]"
   ]
  },
  {
   "cell_type": "code",
   "execution_count": 281,
   "metadata": {},
   "outputs": [],
   "source": [
    "#break array\n",
    "def divide_array(array):\n",
    "    #print(\"running for\",array)\n",
    "    if len(array)>2:\n",
    "        mid = (len(array)+1)//2\n",
    "        l = array[:mid]\n",
    "        r = array[mid:]\n",
    "        divide_array(l)\n",
    "        divide_array(r)\n",
    "    elif len(array)==2:\n",
    "        #print(\"array len 2\",array)\n",
    "        if array[0]> array[1]:\n",
    "            array[0]= array[0]+array[1]\n",
    "            array[1]= array[0]-array[1]\n",
    "            array[0]= array[0]-array[1]\n",
    "        #print(\"returning\",array)\n",
    "        superset.append(array)\n",
    "        #return superset\n",
    "    elif len(array)==1:\n",
    "        #print(\"returning\",array)\n",
    "        superset.append(array)\n",
    "        #return superset\n",
    "    #print(superset)\n",
    "    return superset"
   ]
  },
  {
   "cell_type": "code",
   "execution_count": 282,
   "metadata": {},
   "outputs": [],
   "source": [
    "def merge_sorted(arr1,arr2):\n",
    "    merged = []\n",
    "    #merge 2 sorted array\n",
    "    for i in range(len(arr1)+len(arr2)):\n",
    "        if len(arr1)>0 and len(arr2)>0:\n",
    "            merged.append(min(arr1[0],arr2[0]))\n",
    "            if merged[-1]== arr1[0]:\n",
    "                del arr1[0]\n",
    "            else: del arr2[0]\n",
    "        elif len(arr1)==0:\n",
    "            merged.extend(arr2)\n",
    "            break\n",
    "        elif len(arr2)==0:\n",
    "            merged.extend(arr1)\n",
    "            break\n",
    "    return merged"
   ]
  },
  {
   "cell_type": "code",
   "execution_count": 283,
   "metadata": {},
   "outputs": [],
   "source": [
    "def implement_merge(S):\n",
    "    if len(S)<1:\n",
    "        print(\"invalid array\")\n",
    "        return None\n",
    "    while len(S)>1:\n",
    "        #print(len(S))\n",
    "        i=0\n",
    "        newS=[]\n",
    "        while i<(len(S)-1):\n",
    "            #print(i)\n",
    "            merged= merge_sorted(S[i],S[i+1])\n",
    "            newS.append(merged)\n",
    "            i+=2\n",
    "        S = newS\n",
    "    return S[0]"
   ]
  },
  {
   "cell_type": "code",
   "execution_count": 284,
   "metadata": {},
   "outputs": [
    {
     "name": "stdout",
     "output_type": "stream",
     "text": [
      "[[1, 2], [5, 6], [7, 8], [543], [0, 12], [1, 98], [-1, 2], [-60]]\n"
     ]
    },
    {
     "data": {
      "text/plain": [
       "[-60, -1, 0, 1, 1, 2, 2, 5, 6, 7, 8, 12, 98, 543]"
      ]
     },
     "execution_count": 284,
     "metadata": {},
     "output_type": "execute_result"
    }
   ],
   "source": [
    "superset =[]\n",
    "S = divide_array(array)\n",
    "print(S)\n",
    "implement_merge(S)"
   ]
  },
  {
   "cell_type": "code",
   "execution_count": null,
   "metadata": {},
   "outputs": [],
   "source": []
  },
  {
   "cell_type": "code",
   "execution_count": null,
   "metadata": {},
   "outputs": [],
   "source": []
  },
  {
   "cell_type": "code",
   "execution_count": null,
   "metadata": {},
   "outputs": [],
   "source": []
  }
 ],
 "metadata": {
  "kernelspec": {
   "display_name": "Python 3",
   "language": "python",
   "name": "python3"
  },
  "language_info": {
   "codemirror_mode": {
    "name": "ipython",
    "version": 3
   },
   "file_extension": ".py",
   "mimetype": "text/x-python",
   "name": "python",
   "nbconvert_exporter": "python",
   "pygments_lexer": "ipython3",
   "version": "3.6.8"
  }
 },
 "nbformat": 4,
 "nbformat_minor": 2
}
