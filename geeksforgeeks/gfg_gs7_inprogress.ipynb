{
 "cells": [
  {
   "cell_type": "markdown",
   "metadata": {},
   "source": [
    "<a href=\"https://www.geeksforgeeks.org/find-excel-column-name-given-number/\" style=\"font-size:20px; color:tomato\"><b>Find Excel column name from a given column number<b/></a>"
   ]
  },
  {
   "cell_type": "code",
   "execution_count": 78,
   "metadata": {},
   "outputs": [],
   "source": [
    "col_num = 705"
   ]
  },
  {
   "cell_type": "code",
   "execution_count": 79,
   "metadata": {},
   "outputs": [
    {
     "name": "stdout",
     "output_type": "stream",
     "text": [
      "AAAAAAAAAAAAAAAAAAAAAAAAAAAC\n"
     ]
    }
   ],
   "source": [
    "if col_num >0:\n",
    "    col_name =\"\"\n",
    "    for i in range(int(col_num/26)):\n",
    "        col_name = col_name+'A'\n",
    "\n",
    "    col_name= col_name+chr(col_num%26+64)\n",
    "    print(col_name)\n",
    "else: print(\"not a valid number\")\n",
    "    \n",
    "    \n"
   ]
  },
  {
   "cell_type": "code",
   "execution_count": 88,
   "metadata": {},
   "outputs": [],
   "source": [
    "def num_to_char(num):\n",
    "    col_name= chr(num+64)+col_name\n",
    "    return col_name\n",
    "    "
   ]
  },
  {
   "cell_type": "code",
   "execution_count": 89,
   "metadata": {},
   "outputs": [],
   "source": [
    "col_num = 27"
   ]
  },
  {
   "cell_type": "code",
   "execution_count": 90,
   "metadata": {},
   "outputs": [
    {
     "ename": "UnboundLocalError",
     "evalue": "local variable 'col_name' referenced before assignment",
     "output_type": "error",
     "traceback": [
      "\u001b[0;31m---------------------------------------------------------------------------\u001b[0m",
      "\u001b[0;31mUnboundLocalError\u001b[0m                         Traceback (most recent call last)",
      "\u001b[0;32m<ipython-input-90-559cc970393d>\u001b[0m in \u001b[0;36m<module>\u001b[0;34m\u001b[0m\n\u001b[1;32m      1\u001b[0m \u001b[0;32mfor\u001b[0m \u001b[0mi\u001b[0m \u001b[0;32min\u001b[0m \u001b[0mrange\u001b[0m\u001b[0;34m(\u001b[0m\u001b[0mint\u001b[0m\u001b[0;34m(\u001b[0m\u001b[0mcol_num\u001b[0m\u001b[0;34m/\u001b[0m\u001b[0;36m26\u001b[0m\u001b[0;34m)\u001b[0m\u001b[0;34m)\u001b[0m\u001b[0;34m:\u001b[0m\u001b[0;34m\u001b[0m\u001b[0m\n\u001b[0;32m----> 2\u001b[0;31m     \u001b[0ms\u001b[0m\u001b[0;34m=\u001b[0m \u001b[0mnum_to_char\u001b[0m\u001b[0;34m(\u001b[0m\u001b[0mcol_num\u001b[0m\u001b[0;34m%\u001b[0m\u001b[0;36m26\u001b[0m\u001b[0;34m)\u001b[0m\u001b[0;34m\u001b[0m\u001b[0m\n\u001b[0m\u001b[1;32m      3\u001b[0m     \u001b[0mcol_num\u001b[0m \u001b[0;34m=\u001b[0m \u001b[0mcol_num\u001b[0m\u001b[0;34m-\u001b[0m\u001b[0ms\u001b[0m\u001b[0;34m\u001b[0m\u001b[0m\n\u001b[1;32m      4\u001b[0m \u001b[0;34m\u001b[0m\u001b[0m\n\u001b[1;32m      5\u001b[0m \u001b[0;34m\u001b[0m\u001b[0m\n",
      "\u001b[0;32m<ipython-input-88-38dcceb2fe89>\u001b[0m in \u001b[0;36mnum_to_char\u001b[0;34m(num)\u001b[0m\n\u001b[1;32m      1\u001b[0m \u001b[0;32mdef\u001b[0m \u001b[0mnum_to_char\u001b[0m\u001b[0;34m(\u001b[0m\u001b[0mnum\u001b[0m\u001b[0;34m)\u001b[0m\u001b[0;34m:\u001b[0m\u001b[0;34m\u001b[0m\u001b[0m\n\u001b[0;32m----> 2\u001b[0;31m     \u001b[0mcol_name\u001b[0m\u001b[0;34m=\u001b[0m \u001b[0mchr\u001b[0m\u001b[0;34m(\u001b[0m\u001b[0mnum\u001b[0m\u001b[0;34m+\u001b[0m\u001b[0;36m64\u001b[0m\u001b[0;34m)\u001b[0m\u001b[0;34m+\u001b[0m\u001b[0mcol_name\u001b[0m\u001b[0;34m\u001b[0m\u001b[0m\n\u001b[0m\u001b[1;32m      3\u001b[0m     \u001b[0;32mreturn\u001b[0m \u001b[0mcol_name\u001b[0m\u001b[0;34m\u001b[0m\u001b[0m\n\u001b[1;32m      4\u001b[0m \u001b[0;34m\u001b[0m\u001b[0m\n",
      "\u001b[0;31mUnboundLocalError\u001b[0m: local variable 'col_name' referenced before assignment"
     ]
    }
   ],
   "source": [
    "for i in range(int(col_num/26)):\n",
    "    s= num_to_char(col_num%26)\n",
    "    col_num = col_num-s\n",
    "    \n",
    "    "
   ]
  },
  {
   "cell_type": "code",
   "execution_count": 113,
   "metadata": {},
   "outputs": [],
   "source": [
    "col_num = 702\n",
    "n = col_num\n",
    "string =\"\""
   ]
  },
  {
   "cell_type": "code",
   "execution_count": 114,
   "metadata": {},
   "outputs": [],
   "source": [
    "r_dict ={}\n",
    "for i in range(26):\n",
    "    r_dict[i]= chr(ord('A')+i-1)\n",
    "r_dict[0]=\"Z\""
   ]
  },
  {
   "cell_type": "code",
   "execution_count": 115,
   "metadata": {},
   "outputs": [
    {
     "name": "stdout",
     "output_type": "stream",
     "text": [
      "27 0\n",
      "1 1\n",
      "0 1\n"
     ]
    },
    {
     "data": {
      "text/plain": [
       "'if r !=0:\\n    string = r_dict[n]+string'"
      ]
     },
     "execution_count": 115,
     "metadata": {},
     "output_type": "execute_result"
    }
   ],
   "source": [
    "while n >0:\n",
    "    n,r = divmod(n,26)\n",
    "    print(n,r)\n",
    "    string = r_dict[r]+string\n",
    "'''if r !=0:\n",
    "    string = r_dict[n]+string'''"
   ]
  },
  {
   "cell_type": "code",
   "execution_count": 116,
   "metadata": {},
   "outputs": [
    {
     "data": {
      "text/plain": [
       "'AAZ'"
      ]
     },
     "execution_count": 116,
     "metadata": {},
     "output_type": "execute_result"
    }
   ],
   "source": [
    "string"
   ]
  },
  {
   "cell_type": "code",
   "execution_count": 13,
   "metadata": {
    "collapsed": true
   },
   "outputs": [
    {
     "data": {
      "text/plain": [
       "{0: 'Z',\n",
       " 1: 'A',\n",
       " 2: 'B',\n",
       " 3: 'C',\n",
       " 4: 'D',\n",
       " 5: 'E',\n",
       " 6: 'F',\n",
       " 7: 'G',\n",
       " 8: 'H',\n",
       " 9: 'I',\n",
       " 10: 'J',\n",
       " 11: 'K',\n",
       " 12: 'L',\n",
       " 13: 'M',\n",
       " 14: 'N',\n",
       " 15: 'O',\n",
       " 16: 'P',\n",
       " 17: 'Q',\n",
       " 18: 'R',\n",
       " 19: 'S',\n",
       " 20: 'T',\n",
       " 21: 'U',\n",
       " 22: 'V',\n",
       " 23: 'W',\n",
       " 24: 'X',\n",
       " 25: 'Y'}"
      ]
     },
     "execution_count": 13,
     "metadata": {},
     "output_type": "execute_result"
    }
   ],
   "source": [
    "r_dict"
   ]
  },
  {
   "cell_type": "code",
   "execution_count": null,
   "metadata": {},
   "outputs": [],
   "source": []
  }
 ],
 "metadata": {
  "kernelspec": {
   "display_name": "Python 3",
   "language": "python",
   "name": "python3"
  },
  "language_info": {
   "codemirror_mode": {
    "name": "ipython",
    "version": 3
   },
   "file_extension": ".py",
   "mimetype": "text/x-python",
   "name": "python",
   "nbconvert_exporter": "python",
   "pygments_lexer": "ipython3",
   "version": "3.6.8"
  }
 },
 "nbformat": 4,
 "nbformat_minor": 2
}
