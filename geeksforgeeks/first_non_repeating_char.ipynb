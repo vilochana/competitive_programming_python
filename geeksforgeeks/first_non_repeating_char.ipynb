{
 "cells": [
  {
   "cell_type": "code",
   "execution_count": 34,
   "metadata": {},
   "outputs": [],
   "source": [
    "string =\"blnhmitnkklblnhmibdn\""
   ]
  },
  {
   "cell_type": "code",
   "execution_count": 35,
   "metadata": {},
   "outputs": [],
   "source": [
    "dict_={}\n",
    "non_repeating = False\n",
    "for i in range(ord(\"a\"),ord(\"z\")+1):\n",
    "    #print(i)\n",
    "    dict_[chr(i)]=0\n",
    "#dict_"
   ]
  },
  {
   "cell_type": "code",
   "execution_count": 36,
   "metadata": {},
   "outputs": [
    {
     "name": "stdout",
     "output_type": "stream",
     "text": [
      "t\n"
     ]
    }
   ],
   "source": [
    "for char in string:\n",
    "    dict_[char]= dict_[char]+1\n",
    "for char in string:\n",
    "    if dict_[char]==1:\n",
    "        print(char)\n",
    "        non_repeating = True\n",
    "        break\n",
    "if non_repeating == False:\n",
    "    print(\"-1\")"
   ]
  },
  {
   "cell_type": "code",
   "execution_count": null,
   "metadata": {},
   "outputs": [],
   "source": []
  }
 ],
 "metadata": {
  "kernelspec": {
   "display_name": "Python 3",
   "language": "python",
   "name": "python3"
  },
  "language_info": {
   "codemirror_mode": {
    "name": "ipython",
    "version": 3
   },
   "file_extension": ".py",
   "mimetype": "text/x-python",
   "name": "python",
   "nbconvert_exporter": "python",
   "pygments_lexer": "ipython3",
   "version": "3.5.2"
  }
 },
 "nbformat": 4,
 "nbformat_minor": 2
}
