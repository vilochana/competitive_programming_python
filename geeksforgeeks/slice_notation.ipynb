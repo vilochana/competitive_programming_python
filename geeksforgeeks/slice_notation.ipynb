{
 "cells": [
  {
   "cell_type": "markdown",
   "metadata": {},
   "source": [
    "<a href =\"https://stackoverflow.com/questions/509211/understanding-slice-notation\" style=\"font-size:30px; color:tomato\"><b>Understanding slice notation</b></a>"
   ]
  },
  {
   "cell_type": "markdown",
   "metadata": {},
   "source": [
    "    a[start:stop]  # items start through stop-1\n",
    "    a[start:]      # items start through the rest of the array\n",
    "    a[:stop]       # items from the beginning through stop-1\n",
    "    a[:]           # a copy of the whole array\n",
    "    a[start:stop:step] # start through not past stop, by step\n",
    "    a[-1]    # last item in the array\n",
    "    a[-2:]   # last two items in the array\n",
    "    a[:-2]   # everything except the last two items\n",
    "    a[::-1]    # all items in the array, reversed\n",
    "    a[1::-1]   # the first two items, reversed\n",
    "    a[:-3:-1]  # the last two items, reversed\n",
    "    a[-3::-1]  # everything except the last two items, reversed"
   ]
  },
  {
   "cell_type": "code",
   "execution_count": 3,
   "metadata": {},
   "outputs": [
    {
     "data": {
      "text/plain": [
       "['P', 'y', 't', 'h', 'o', 'n']"
      ]
     },
     "execution_count": 3,
     "metadata": {},
     "output_type": "execute_result"
    }
   ],
   "source": [
    "a =list(\"Python\")\n",
    "a"
   ]
  },
  {
   "cell_type": "code",
   "execution_count": 15,
   "metadata": {},
   "outputs": [
    {
     "name": "stdout",
     "output_type": "stream",
     "text": [
      "a[:]\t\t\t ['P', 'y', 't', 'h', 'o', 'n']\n",
      "a[2:4]\t\t\t ['t', 'h']\n",
      "a[2:]\t\t\t ['t', 'h', 'o', 'n']\n",
      "a[:4]\t\t\t ['P', 'y', 't', 'h']\n",
      "a[1:6:2]\t\t ['y', 'h', 'n']\n",
      "a[-1]\t\t\t n\n",
      "a[-2:]\t\t\t ['o', 'n']\n",
      "a[:-2]\t\t\t ['P', 'y', 't', 'h']\n",
      "a[::-1]\t\t\t ['n', 'o', 'h', 't', 'y', 'P']\n",
      "a[1::-1]\t\t ['y', 'P']\n",
      "a[:-3:-1]\t\t ['n', 'o']\n",
      "a[-3::-1]\t\t ['h', 't', 'y', 'P']\n"
     ]
    }
   ],
   "source": [
    "print(\"a[:]\\t\\t\\t\",a[:])           # a copy of the whole array\n",
    "print(\"a[2:4]\\t\\t\\t\",a[2:4])  # items start through stop-1\n",
    "print(\"a[2:]\\t\\t\\t\",a[2:])      # items start through the rest of the array\n",
    "print(\"a[:4]\\t\\t\\t\",a[:4])       # items from the beginning through stop-1\n",
    "print(\"a[1:6:2]\\t\\t\",a[1:6:2]) # start through not past stop, by step\n",
    "print(\"a[-1]\\t\\t\\t\",a[-1])    # last item in the array\n",
    "print(\"a[-2:]\\t\\t\\t\",a[-2:])   # last two items in the array\n",
    "print(\"a[:-2]\\t\\t\\t\",a[:-2])   # everything except the last two items\n",
    "print(\"a[::-1]\\t\\t\\t\",a[::-1])    # all items in the array, reversed\n",
    "print(\"a[1::-1]\\t\\t\",a[1::-1])   # the first two items, reversed\n",
    "print(\"a[:-3:-1]\\t\\t\",a[:-3:-1])  # the last two items, reversed\n",
    "print(\"a[-3::-1]\\t\\t\",a[-3::-1])  # everything except the last two items, reversed"
   ]
  },
  {
   "cell_type": "code",
   "execution_count": null,
   "metadata": {},
   "outputs": [],
   "source": []
  },
  {
   "cell_type": "code",
   "execution_count": null,
   "metadata": {},
   "outputs": [],
   "source": []
  }
 ],
 "metadata": {
  "kernelspec": {
   "display_name": "Python 3",
   "language": "python",
   "name": "python3"
  },
  "language_info": {
   "codemirror_mode": {
    "name": "ipython",
    "version": 3
   },
   "file_extension": ".py",
   "mimetype": "text/x-python",
   "name": "python",
   "nbconvert_exporter": "python",
   "pygments_lexer": "ipython3",
   "version": "3.6.8"
  }
 },
 "nbformat": 4,
 "nbformat_minor": 2
}
