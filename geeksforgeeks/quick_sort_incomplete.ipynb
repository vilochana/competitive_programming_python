{
 "cells": [
  {
   "cell_type": "code",
   "execution_count": 74,
   "metadata": {},
   "outputs": [],
   "source": [
    "array = [5,6,7,8,9,0,3,2,23,17,15]\n",
    "arr = array"
   ]
  },
  {
   "cell_type": "code",
   "execution_count": null,
   "metadata": {},
   "outputs": [],
   "source": []
  },
  {
   "cell_type": "code",
   "execution_count": 75,
   "metadata": {},
   "outputs": [],
   "source": [
    "left =[]\n",
    "right = []\n",
    "#left = arr[:-1]"
   ]
  },
  {
   "cell_type": "code",
   "execution_count": 76,
   "metadata": {},
   "outputs": [],
   "source": [
    "def quick_sort(arr):\n",
    "    left =[]\n",
    "    right=[]\n",
    "    pivot = arr[-1]\n",
    "    print(\"analysing\",arr)\n",
    "    print(\"pivot\",pivot)\n",
    "    for i in range(len(arr)-1):\n",
    "        if arr[i]<pivot:\n",
    "            left.append(arr[i])\n",
    "            #swap+=1\n",
    "        else:\n",
    "            right.append(arr[i])\n",
    "            #swap+=1\n",
    "    print(left,right)\n",
    "    #pivot_index+= len(left)\n",
    "    #array= left+[pivot]+right\n",
    "    #print(\"arr\", arr)\n",
    "    print(\"array\",array)\n",
    "    if left !=[]:\n",
    "        #quick_sort(left)\n",
    "        array[:len(left)]= quick_sort(left)\n",
    "    if right !=[]:\n",
    "        quick_sort(right)\n",
    "    return arr"
   ]
  },
  {
   "cell_type": "code",
   "execution_count": 77,
   "metadata": {},
   "outputs": [],
   "source": [
    "#termination condition"
   ]
  },
  {
   "cell_type": "code",
   "execution_count": 78,
   "metadata": {},
   "outputs": [
    {
     "name": "stdout",
     "output_type": "stream",
     "text": [
      "analysing [5, 6, 7, 8, 9, 0, 3, 2, 23, 17, 15]\n",
      "pivot 15\n",
      "[5, 6, 7, 8, 9, 0, 3, 2] [23, 17]\n",
      "array [5, 6, 7, 8, 9, 0, 3, 2, 15, 23, 17]\n",
      "analysing [5, 6, 7, 8, 9, 0, 3, 2]\n",
      "pivot 2\n",
      "[0] [5, 6, 7, 8, 9, 3]\n",
      "array [0, 2, 5, 6, 7, 8, 9, 3]\n",
      "analysing [0]\n",
      "pivot 0\n",
      "[] []\n",
      "array [0]\n",
      "analysing [5, 6, 7, 8, 9, 3]\n",
      "pivot 3\n",
      "[] [5, 6, 7, 8, 9]\n",
      "array [3, 5, 6, 7, 8, 9]\n",
      "analysing [5, 6, 7, 8, 9]\n",
      "pivot 9\n",
      "[5, 6, 7, 8] []\n",
      "array [5, 6, 7, 8, 9]\n",
      "analysing [5, 6, 7, 8]\n",
      "pivot 8\n",
      "[5, 6, 7] []\n",
      "array [5, 6, 7, 8]\n",
      "analysing [5, 6, 7]\n",
      "pivot 7\n",
      "[5, 6] []\n",
      "array [5, 6, 7]\n",
      "analysing [5, 6]\n",
      "pivot 6\n",
      "[5] []\n",
      "array [5, 6]\n",
      "analysing [5]\n",
      "pivot 5\n",
      "[] []\n",
      "array [5]\n",
      "analysing [23, 17]\n",
      "pivot 17\n",
      "[] [23]\n",
      "array [17, 23]\n",
      "analysing [23]\n",
      "pivot 23\n",
      "[] []\n",
      "array [23]\n"
     ]
    },
    {
     "data": {
      "text/plain": [
       "[5, 6, 7, 8, 9, 0, 3, 2, 23, 17, 15]"
      ]
     },
     "execution_count": 78,
     "metadata": {},
     "output_type": "execute_result"
    }
   ],
   "source": [
    "quick_sort(arr)"
   ]
  },
  {
   "cell_type": "code",
   "execution_count": 52,
   "metadata": {},
   "outputs": [
    {
     "data": {
      "text/plain": [
       "[5, 6, 7, 8, 9, 0, 3, 2, 15, 17, 15]"
      ]
     },
     "execution_count": 52,
     "metadata": {},
     "output_type": "execute_result"
    }
   ],
   "source": [
    "arr"
   ]
  },
  {
   "cell_type": "code",
   "execution_count": null,
   "metadata": {},
   "outputs": [],
   "source": []
  }
 ],
 "metadata": {
  "kernelspec": {
   "display_name": "Python 3",
   "language": "python",
   "name": "python3"
  },
  "language_info": {
   "codemirror_mode": {
    "name": "ipython",
    "version": 3
   },
   "file_extension": ".py",
   "mimetype": "text/x-python",
   "name": "python",
   "nbconvert_exporter": "python",
   "pygments_lexer": "ipython3",
   "version": "3.6.8"
  }
 },
 "nbformat": 4,
 "nbformat_minor": 2
}
