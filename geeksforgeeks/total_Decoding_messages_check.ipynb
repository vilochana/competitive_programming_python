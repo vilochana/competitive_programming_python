{
 "cells": [
  {
   "cell_type": "markdown",
   "metadata": {},
   "source": [
    "<a href=\"https://www.geeksforgeeks.org/count-possible-decodings-given-digit-sequence/\">Total decoding messages</a>"
   ]
  },
  {
   "cell_type": "code",
   "execution_count": 1,
   "metadata": {},
   "outputs": [],
   "source": [
    "n = 3"
   ]
  },
  {
   "cell_type": "code",
   "execution_count": 2,
   "metadata": {},
   "outputs": [],
   "source": [
    "total_number_combinations = pow(n-1,2)"
   ]
  },
  {
   "cell_type": "code",
   "execution_count": 3,
   "metadata": {},
   "outputs": [],
   "source": [
    "bool_list = [0]*(n-1)"
   ]
  },
  {
   "cell_type": "code",
   "execution_count": 5,
   "metadata": {},
   "outputs": [],
   "source": [
    "'''from itertools import compress, product\n",
    "\n",
    "def combinations(items):\n",
    "    return ( set(compress(items,mask)) for mask in product(*[[0,1]]*len(items)) )\n",
    "    # alternative:                      ...in product([0,1], repeat=len(items)) )'''"
   ]
  },
  {
   "cell_type": "code",
   "execution_count": 9,
   "metadata": {},
   "outputs": [
    {
     "data": {
      "text/plain": [
       "[0, 0]"
      ]
     },
     "execution_count": 9,
     "metadata": {},
     "output_type": "execute_result"
    }
   ],
   "source": [
    "bool_list"
   ]
  },
  {
   "cell_type": "code",
   "execution_count": 10,
   "metadata": {},
   "outputs": [],
   "source": [
    "from itertools import combinations"
   ]
  },
  {
   "cell_type": "code",
   "execution_count": 25,
   "metadata": {},
   "outputs": [],
   "source": [
    "from itertools import permutations"
   ]
  },
  {
   "cell_type": "code",
   "execution_count": 93,
   "metadata": {},
   "outputs": [],
   "source": [
    "combinations_list = permutations([0,1,0,1],2)\n",
    "all_perm =[]\n",
    "for combination in combinations_list:\n",
    "    #print(combination)\n",
    "    all_perm.append(combination)\n",
    "net_perm= list(set(all_perm))"
   ]
  },
  {
   "cell_type": "code",
   "execution_count": 97,
   "metadata": {},
   "outputs": [
    {
     "data": {
      "text/plain": [
       "0"
      ]
     },
     "execution_count": 97,
     "metadata": {},
     "output_type": "execute_result"
    }
   ],
   "source": [
    "net_perm[0][0]"
   ]
  },
  {
   "cell_type": "code",
   "execution_count": 90,
   "metadata": {},
   "outputs": [
    {
     "data": {
      "text/plain": [
       "{(0, 0), (0, 1), (1, 0), (1, 1)}"
      ]
     },
     "execution_count": 90,
     "metadata": {},
     "output_type": "execute_result"
    }
   ],
   "source": [
    "net_perm"
   ]
  },
  {
   "cell_type": "code",
   "execution_count": 78,
   "metadata": {},
   "outputs": [],
   "source": [
    "number = 567"
   ]
  },
  {
   "cell_type": "code",
   "execution_count": 100,
   "metadata": {},
   "outputs": [
    {
     "name": "stdout",
     "output_type": "stream",
     "text": [
      "i 0\n",
      "False\n",
      "appending as value 0 ['5']\n",
      "i 1\n",
      "False\n",
      "extending as value 1\n",
      "setting appending true 6 ['5']\n",
      "i 2\n",
      "True\n",
      "i 0\n",
      "False\n",
      "appending as value 0 ['5', '67', '5']\n",
      "i 1\n",
      "False\n",
      "appending as value 0 ['5', '67', '5', '5']\n",
      "i 2\n",
      "False\n",
      "i 0\n",
      "False\n",
      "appending as value 0 ['5', '67', '5', '5', '7', '5']\n",
      "i 1\n",
      "False\n",
      "extending as value 1\n",
      "setting appending true 6 ['5', '67', '5', '5', '7', '5']\n",
      "i 2\n",
      "True\n",
      "i 0\n",
      "False\n",
      "extending as value 1\n",
      "setting appending true 5 ['5', '67', '5', '5', '7', '5', '67']\n",
      "i 1\n",
      "True\n",
      "appending as value 0 ['5', '67', '5', '5', '7', '5', '67', '5']\n",
      "i 2\n",
      "False\n",
      "i 0\n",
      "False\n",
      "extending as value 1\n",
      "setting appending true 5 ['5', '67', '5', '5', '7', '5', '67', '5', '7']\n",
      "i 1\n",
      "True\n",
      "appending as value 0 ['5', '67', '5', '5', '7', '5', '67', '5', '7', '5']\n",
      "i 2\n",
      "False\n",
      "i 0\n",
      "False\n",
      "extending as value 1\n",
      "setting appending true 5 ['5', '67', '5', '5', '7', '5', '67', '5', '7', '5', '7']\n",
      "i 1\n",
      "True\n",
      "extending as value 1\n",
      "extending the number 56 ['5', '67', '5', '5', '7', '5', '67', '5', '7', '5', '7']\n",
      "i 2\n",
      "True\n",
      "i 0\n",
      "False\n",
      "appending as value 0 ['5', '67', '5', '5', '7', '5', '67', '5', '7', '5', '7', '567', '5']\n",
      "i 1\n",
      "False\n",
      "appending as value 0 ['5', '67', '5', '5', '7', '5', '67', '5', '7', '5', '7', '567', '5', '5']\n",
      "i 2\n",
      "False\n",
      "i 0\n",
      "False\n",
      "appending as value 0 ['5', '67', '5', '5', '7', '5', '67', '5', '7', '5', '7', '567', '5', '5', '7', '5']\n",
      "i 1\n",
      "False\n",
      "extending as value 1\n",
      "setting appending true 6 ['5', '67', '5', '5', '7', '5', '67', '5', '7', '5', '7', '567', '5', '5', '7', '5']\n",
      "i 2\n",
      "True\n",
      "i 0\n",
      "False\n",
      "appending as value 0 ['5', '67', '5', '5', '7', '5', '67', '5', '7', '5', '7', '567', '5', '5', '7', '5', '67', '5']\n",
      "i 1\n",
      "False\n",
      "extending as value 1\n",
      "setting appending true 6 ['5', '67', '5', '5', '7', '5', '67', '5', '7', '5', '7', '567', '5', '5', '7', '5', '67', '5']\n",
      "i 2\n",
      "True\n",
      "i 0\n",
      "False\n",
      "extending as value 1\n",
      "setting appending true 5 ['5', '67', '5', '5', '7', '5', '67', '5', '7', '5', '7', '567', '5', '5', '7', '5', '67', '5', '67']\n",
      "i 1\n",
      "True\n",
      "appending as value 0 ['5', '67', '5', '5', '7', '5', '67', '5', '7', '5', '7', '567', '5', '5', '7', '5', '67', '5', '67', '5']\n",
      "i 2\n",
      "False\n",
      "i 0\n",
      "False\n",
      "extending as value 1\n",
      "setting appending true 5 ['5', '67', '5', '5', '7', '5', '67', '5', '7', '5', '7', '567', '5', '5', '7', '5', '67', '5', '67', '5', '7']\n",
      "i 1\n",
      "True\n",
      "extending as value 1\n",
      "extending the number 56 ['5', '67', '5', '5', '7', '5', '67', '5', '7', '5', '7', '567', '5', '5', '7', '5', '67', '5', '67', '5', '7']\n",
      "i 2\n",
      "True\n",
      "i 0\n",
      "False\n",
      "extending as value 1\n",
      "setting appending true 5 ['5', '67', '5', '5', '7', '5', '67', '5', '7', '5', '7', '567', '5', '5', '7', '5', '67', '5', '67', '5', '7', '567']\n",
      "i 1\n",
      "True\n",
      "appending as value 0 ['5', '67', '5', '5', '7', '5', '67', '5', '7', '5', '7', '567', '5', '5', '7', '5', '67', '5', '67', '5', '7', '567', '5']\n",
      "i 2\n",
      "False\n"
     ]
    }
   ],
   "source": [
    "number_char = list(str(number))\n",
    "number_list=[]\n",
    "for j in range(len(all_perm)):\n",
    "    appending= False\n",
    "    for i in range(len(number_char)):\n",
    "        print(\"i\",i)\n",
    "        print(appending)\n",
    "        if i == len(number_char)-1:\n",
    "            if appending== True:\n",
    "                num_to_app += number_char[i]\n",
    "            elif appending== False:\n",
    "                num_to_app = number_char[i]\n",
    "            number_list.append(num_to_app)\n",
    "            break\n",
    "        num_to_app = number_char[0]\n",
    "        if all_perm[j][i] ==0:\n",
    "            number_list.append(num_to_app)\n",
    "            print(\"appending as value 0\", number_list)\n",
    "            appending = False\n",
    "        elif all_perm[j][i] ==1:\n",
    "            print(\"extending as value 1\")\n",
    "            if appending== True:\n",
    "                num_to_app += number_char[i]\n",
    "                print(\"extending the number\", num_to_app,number_list)\n",
    "            elif appending== False:\n",
    "                num_to_app = number_char[i]\n",
    "                print(\"setting appending true\",num_to_app,number_list)\n",
    "                appending= True"
   ]
  },
  {
   "cell_type": "code",
   "execution_count": 102,
   "metadata": {},
   "outputs": [
    {
     "data": {
      "text/plain": [
       "{'5', '567', '67', '7'}"
      ]
     },
     "execution_count": 102,
     "metadata": {},
     "output_type": "execute_result"
    }
   ],
   "source": [
    "set(number_list)"
   ]
  },
  {
   "cell_type": "code",
   "execution_count": 64,
   "metadata": {},
   "outputs": [
    {
     "data": {
      "text/plain": [
       "0"
      ]
     },
     "execution_count": 64,
     "metadata": {},
     "output_type": "execute_result"
    }
   ],
   "source": [
    "all_perm[0][0]"
   ]
  },
  {
   "cell_type": "code",
   "execution_count": null,
   "metadata": {},
   "outputs": [],
   "source": []
  }
 ],
 "metadata": {
  "kernelspec": {
   "display_name": "Python 3",
   "language": "python",
   "name": "python3"
  },
  "language_info": {
   "codemirror_mode": {
    "name": "ipython",
    "version": 3
   },
   "file_extension": ".py",
   "mimetype": "text/x-python",
   "name": "python",
   "nbconvert_exporter": "python",
   "pygments_lexer": "ipython3",
   "version": "3.6.8"
  }
 },
 "nbformat": 4,
 "nbformat_minor": 2
}
