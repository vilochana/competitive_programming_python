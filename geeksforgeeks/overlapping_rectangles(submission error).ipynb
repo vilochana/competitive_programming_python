{
 "cells": [
  {
   "cell_type": "markdown",
   "metadata": {},
   "source": [
    "<a href=\"https://practice.geeksforgeeks.org/problems/overlapping-rectangles/0\" style=\"font-size:30px; color:tomato\"><b>Overlapping rectangles<b/></a>"
   ]
  },
  {
   "cell_type": "markdown",
   "metadata": {},
   "source": [
    "Given two rectangles, find if the given two rectangles overlap or not. A rectangle is denoted by providing the x and y co-ordinates of two points: the left top corner and the right bottom corner of the rectangle. Two rectangles sharing a side are considered overlapping.\n",
    "\n",
    "Note : It may be assumed that the rectangles are parallel to the coordinate axis."
   ]
  },
  {
   "cell_type": "markdown",
   "metadata": {},
   "source": [
    "    #test input\n",
    "    2\n",
    "    0 10 10 0\n",
    "    5 5 15 0\n",
    "    0 2 1 1 \n",
    "    -2 -3 0 2\n",
    "    #expected output\n",
    "    1\n",
    "    0"
   ]
  },
  {
   "cell_type": "code",
   "execution_count": 5,
   "metadata": {},
   "outputs": [
    {
     "name": "stdout",
     "output_type": "stream",
     "text": [
      "2\n",
      "0 10 10 0\n",
      "5 5 15 0\n",
      "1\n",
      "0 2 1 1\n",
      "-2 -3 0 2\n",
      "0\n"
     ]
    }
   ],
   "source": [
    "n = input()\n",
    "for i in range(int(n)):\n",
    "    x1min,y1max,x1max,y1min =[int(x) for x in input().split(\" \")]\n",
    "    x2min,y2max,x2max,y2min= [int(x) for x in input().split(\" \")]\n",
    "    overlapping = 1 if (max(0,min(x1max,x2max)-max(x1min,x2min)))*max(0,(min(y1max,y2max)-max(y1min,y2min))) > 0 else 0\n",
    "    print(overlapping)"
   ]
  },
  {
   "cell_type": "markdown",
   "metadata": {},
   "source": []
  }
 ],
 "metadata": {
  "kernelspec": {
   "display_name": "Python 3",
   "language": "python",
   "name": "python3"
  },
  "language_info": {
   "codemirror_mode": {
    "name": "ipython",
    "version": 3
   },
   "file_extension": ".py",
   "mimetype": "text/x-python",
   "name": "python",
   "nbconvert_exporter": "python",
   "pygments_lexer": "ipython3",
   "version": "3.6.8"
  }
 },
 "nbformat": 4,
 "nbformat_minor": 2
}
