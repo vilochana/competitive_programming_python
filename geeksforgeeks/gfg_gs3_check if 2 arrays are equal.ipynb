{
 "cells": [
  {
   "cell_type": "markdown",
   "metadata": {},
   "source": [
    "<a href=\"https://www.geeksforgeeks.org/check-if-two-arrays-are-equal-or-not/\" style=\"font-size:20px; color:tomato\"> Check if 2 arrays are equal</a>"
   ]
  },
  {
   "cell_type": "code",
   "execution_count": 2,
   "metadata": {},
   "outputs": [],
   "source": [
    "import numpy as np"
   ]
  },
  {
   "cell_type": "code",
   "execution_count": 3,
   "metadata": {},
   "outputs": [],
   "source": [
    "arr1 = [2,3,4,5,6,9]\n",
    "arr2 =[9,2,6,3,5,4]\n",
    "arr3= [2,5,6,8,9,6]"
   ]
  },
  {
   "cell_type": "code",
   "execution_count": 6,
   "metadata": {},
   "outputs": [
    {
     "name": "stdout",
     "output_type": "stream",
     "text": [
      "equal\n"
     ]
    },
    {
     "data": {
      "text/plain": [
       "'\\nTime complexity -> O(nlogn) \\n\\nAuxilliary space -> O(1)'"
      ]
     },
     "execution_count": 6,
     "metadata": {},
     "output_type": "execute_result"
    }
   ],
   "source": [
    "bool_ = True\n",
    "if len(arr1) != len(arr2):\n",
    "    print(\"not equal\")\n",
    "    bool_= False\n",
    "else:\n",
    "    arr1 = np.sort(arr1)\n",
    "    arr2 = np.sort(arr2)\n",
    "    for i in range(len(arr1)):\n",
    "        if arr1[i]!= arr2[i]:\n",
    "            bool_= False\n",
    "            print(\"not equal\")\n",
    "            break\n",
    "            \n",
    "            \n",
    "if(bool_):\n",
    "    print(\"equal\")\n",
    "    \n",
    "'''\n",
    "Time complexity -> O(nlogn) \n",
    "\n",
    "Auxilliary space -> O(1)'''"
   ]
  },
  {
   "cell_type": "markdown",
   "metadata": {},
   "source": [
    "### gfg better solution"
   ]
  },
  {
   "cell_type": "code",
   "execution_count": 8,
   "metadata": {},
   "outputs": [
    {
     "name": "stdout",
     "output_type": "stream",
     "text": [
      "{2: 1, 3: 1, 4: 1, 5: 1, 6: 1, 9: 1}\n",
      "{2: 1, 3: 1, 4: 1, 5: 1, 6: 1, 9: 1}\n"
     ]
    }
   ],
   "source": [
    "comp1 = {}\n",
    "for i in arr1:\n",
    "    if i not in comp1:\n",
    "        comp1[i]= 1\n",
    "    else:\n",
    "        comp1[i]+=1\n",
    "print(comp1)\n",
    "\n",
    "comp2 = {}\n",
    "for i in arr2:\n",
    "    if i not in comp2:\n",
    "        comp2[i]= 1\n",
    "    else:\n",
    "        comp2[i]+=1\n",
    "print(comp2)"
   ]
  },
  {
   "cell_type": "code",
   "execution_count": 9,
   "metadata": {},
   "outputs": [
    {
     "name": "stdout",
     "output_type": "stream",
     "text": [
      "True\n"
     ]
    },
    {
     "data": {
      "text/plain": [
       "'\\nTime complexity -> O(n) \\n\\nAuxilliary space -> O(n)'"
      ]
     },
     "execution_count": 9,
     "metadata": {},
     "output_type": "execute_result"
    }
   ],
   "source": [
    "bool_ = True\n",
    "for i in comp1:\n",
    "    if i not in comp2:\n",
    "        bool_ = False\n",
    "        break\n",
    "    else:\n",
    "        if comp1[i] !=comp2[i]:\n",
    "            bool_ = False\n",
    "            break\n",
    "print(bool_)\n",
    "\n",
    "'''\n",
    "Time complexity -> O(n) \n",
    "\n",
    "Auxilliary space -> O(n)'''"
   ]
  },
  {
   "cell_type": "code",
   "execution_count": null,
   "metadata": {},
   "outputs": [],
   "source": []
  }
 ],
 "metadata": {
  "kernelspec": {
   "display_name": "Python 3",
   "language": "python",
   "name": "python3"
  },
  "language_info": {
   "codemirror_mode": {
    "name": "ipython",
    "version": 3
   },
   "file_extension": ".py",
   "mimetype": "text/x-python",
   "name": "python",
   "nbconvert_exporter": "python",
   "pygments_lexer": "ipython3",
   "version": "3.6.8"
  }
 },
 "nbformat": 4,
 "nbformat_minor": 2
}
