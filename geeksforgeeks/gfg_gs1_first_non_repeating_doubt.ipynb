{
 "cells": [
  {
   "cell_type": "markdown",
   "metadata": {},
   "source": [
    "<a href=\"https://www.geeksforgeeks.org/given-a-string-find-its-first-non-repeating-character/\" style=\"font-size:20px; color:tomato\"><b>First Non Repeating Character in a String</b></a>"
   ]
  },
  {
   "cell_type": "code",
   "execution_count": 131,
   "metadata": {},
   "outputs": [
    {
     "data": {
      "text/plain": [
       "'Why the time in the first trial is always less than all gfg solutions?\\nhow does tthis count work? Is it actually a  better solution?'"
      ]
     },
     "execution_count": 131,
     "metadata": {},
     "output_type": "execute_result"
    }
   ],
   "source": [
    "'''Why the time in the first trial is always less than all gfg solutions?\n",
    "how does tthis count work? Is it actually a  better solution?'''"
   ]
  },
  {
   "cell_type": "code",
   "execution_count": 107,
   "metadata": {},
   "outputs": [],
   "source": [
    "#s = str(input(\"Enter a string\"))"
   ]
  },
  {
   "cell_type": "code",
   "execution_count": 123,
   "metadata": {},
   "outputs": [],
   "source": [
    "import time\n",
    "string = \"bcvsyxhzbxhvagvxhxhahxahxabjoijsjqsaktsqyghknbvcxqs5vcdrtyujhgfcxsawertyuikjhvcxzsdfghjkiuygfdxzswefghuytfcxdfrtyujnbvcfgbvfgyhnbvcftyhnbvcxsakuytfdsasdfghui9876rewaqwerty89uygfdfghjkjhvcxsejhgfdswertyuio98765432qazxcvbnmko9567uytfdsasertyuiuytfdsasertyuhgfdswe567890oihgfxzaswertyuzxcfgtrewsxcfghnjikmnbvfrewazxcfgyujnjkolknbvcds\""
   ]
  },
  {
   "cell_type": "code",
   "execution_count": 124,
   "metadata": {},
   "outputs": [
    {
     "data": {
      "text/plain": [
       "330"
      ]
     },
     "execution_count": 124,
     "metadata": {},
     "output_type": "execute_result"
    }
   ],
   "source": [
    "len(string)"
   ]
  },
  {
   "cell_type": "markdown",
   "metadata": {},
   "source": [
    "## My first trial \n",
    "\n",
    "(Not efficient as the inbuilt count function will have to iterate through the whole string as many number of times as there are characters in the string untill the first non-rep is found)"
   ]
  },
  {
   "cell_type": "code",
   "execution_count": 125,
   "metadata": {},
   "outputs": [
    {
     "name": "stdout",
     "output_type": "stream",
     "text": [
      "First non-repeating character is 4\n",
      "time taken 0.0005397796630859375\n"
     ]
    }
   ],
   "source": [
    "t1 = time.time()\n",
    "l = len(string)\n",
    "for i in range(l-1):\n",
    "    count =string.count(string[i],0,l)\n",
    "    if count == 1:\n",
    "        print(\"First non-repeating character is\",string[i])\n",
    "        break \n",
    "t2 = time.time()\n",
    "print(\"time taken\", t2-t1)"
   ]
  },
  {
   "cell_type": "markdown",
   "metadata": {},
   "source": [
    "## Geeksforgeeks soln 1"
   ]
  },
  {
   "cell_type": "markdown",
   "metadata": {},
   "source": [
    "### from gfg logic"
   ]
  },
  {
   "cell_type": "code",
   "execution_count": 126,
   "metadata": {},
   "outputs": [
    {
     "name": "stdout",
     "output_type": "stream",
     "text": [
      "4\n",
      "time taken 0.0008366107940673828\n"
     ]
    }
   ],
   "source": [
    "t1 = time.time()\n",
    "#create count list \n",
    "def create_count_list(string):\n",
    "    count = [0]*256\n",
    "    for i in string:\n",
    "        count[ord(i)]+=1\n",
    "    return(count)#first non rep\n",
    "def first_non_rep_l(count, string):\n",
    "    flag = False\n",
    "    for i in string:\n",
    "        if count[ord(i)]==1:\n",
    "            flag = True\n",
    "            return i\n",
    "    if flag== False:\n",
    "        print(\"non repeating char not found\")\n",
    "    return False\n",
    "count = create_count_list(string)\n",
    "print(first_non_rep_l(count, string))\n",
    "t2 = time.time()\n",
    "print(\"time taken\", t2-t1)"
   ]
  },
  {
   "cell_type": "markdown",
   "metadata": {},
   "source": [
    "### Similar solution using count dictionary instead of count list"
   ]
  },
  {
   "cell_type": "code",
   "execution_count": 127,
   "metadata": {},
   "outputs": [
    {
     "name": "stdout",
     "output_type": "stream",
     "text": [
      "4\n",
      "time taken 0.0013010501861572266\n"
     ]
    }
   ],
   "source": [
    "t1 = time.time()\n",
    "def create_char_dict():\n",
    "    alpha_dict ={}\n",
    "    for i in range(256):\n",
    "        alpha_dict[chr(i)]=0\n",
    "    return alpha_dict\n",
    "\n",
    "def count_char_occurance(alpha_dict,string):\n",
    "    for i in string:\n",
    "        alpha_dict[i]+=1\n",
    "    return alpha_dict\n",
    "\n",
    "def first_non_rep(count_char_dict,string):\n",
    "    flag = False\n",
    "    for i in string:\n",
    "        if count_char_dict[i] == 1:\n",
    "            flag = True\n",
    "            return i\n",
    "    if flag == False:\n",
    "        print(\"non repeating char not found\")\n",
    "        return flag\n",
    "\n",
    "alpha_dict = create_char_dict()\n",
    "count_char_dict = count_char_occurance(alpha_dict,string)\n",
    "print(first_non_rep(count_char_dict,string))\n",
    "\n",
    "t2 = time.time()\n",
    "print(\"time taken\", t2-t1)"
   ]
  },
  {
   "cell_type": "markdown",
   "metadata": {},
   "source": [
    "## Geeksforgeeks soln 2"
   ]
  },
  {
   "cell_type": "code",
   "execution_count": 128,
   "metadata": {},
   "outputs": [],
   "source": [
    "#by traversing the string just once\n",
    "#how? store the first occurance of character also in teh dictionary"
   ]
  },
  {
   "cell_type": "code",
   "execution_count": 129,
   "metadata": {},
   "outputs": [
    {
     "data": {
      "text/plain": [
       "'bcvsyxhzbxhvagvxhxhahxahxabjoijsjqsaktsqyghknbvcxqs5vcdrtyujhgfcxsawertyuikjhvcxzsdfghjkiuygfdxzswefghuytfcxdfrtyujnbvcfgbvfgyhnbvcftyhnbvcxsakuytfdsasdfghui9876rewaqwerty89uygfdfghjkjhvcxsejhgfdswertyuio98765432qazxcvbnmko9567uytfdsasertyuiuytfdsasertyuhgfdswe567890oihgfxzaswertyuzxcfgtrewsxcfghnjikmnbvfrewazxcfgyujnjkolknbvcds'"
      ]
     },
     "execution_count": 129,
     "metadata": {},
     "output_type": "execute_result"
    }
   ],
   "source": [
    "string"
   ]
  },
  {
   "cell_type": "code",
   "execution_count": 130,
   "metadata": {},
   "outputs": [
    {
     "name": "stdout",
     "output_type": "stream",
     "text": [
      "209 4\n",
      "time taken 0.0008907318115234375\n"
     ]
    }
   ],
   "source": [
    "t1 = time.time()\n",
    "#build count dict\n",
    "def create_char_dict():\n",
    "    alpha_dict ={}\n",
    "    for i in range(256):\n",
    "        alpha_dict[chr(i)]=[-1,0]\n",
    "    return alpha_dict\n",
    "def count_char_occurance(alpha_dict,string):\n",
    "    counter = 0\n",
    "    for i in string:\n",
    "        alpha_dict[i][1]+=1\n",
    "        if alpha_dict[i][0]== -1:\n",
    "            alpha_dict[i][0] = counter\n",
    "        counter +=1\n",
    "    return alpha_dict\n",
    "def first_non_rep(str_len,count_dict):\n",
    "    first_non_repeating = len(string)+1\n",
    "    for key in count_dict:\n",
    "        if count_dict[key][1] == 1:\n",
    "            first_non_repeating = min(first_non_repeating,count_dict[key][0])\n",
    "            if first_non_repeating == count_dict[key][0]:\n",
    "                character = key\n",
    "    if first_non_repeating == len(string)+1:\n",
    "        print(\"no non repeating char found\")\n",
    "    else:\n",
    "        print(first_non_repeating,character)\n",
    "        \n",
    "initial_dict = create_char_dict()\n",
    "count_dict = count_char_occurance(initial_dict,string)\n",
    "first_non_rep(len(string),count_dict)\n",
    "\n",
    "t2 = time.time()\n",
    "print(\"time taken\", t2-t1)"
   ]
  },
  {
   "cell_type": "code",
   "execution_count": null,
   "metadata": {},
   "outputs": [],
   "source": []
  }
 ],
 "metadata": {
  "kernelspec": {
   "display_name": "Python 3",
   "language": "python",
   "name": "python3"
  },
  "language_info": {
   "codemirror_mode": {
    "name": "ipython",
    "version": 3
   },
   "file_extension": ".py",
   "mimetype": "text/x-python",
   "name": "python",
   "nbconvert_exporter": "python",
   "pygments_lexer": "ipython3",
   "version": "3.6.8"
  }
 },
 "nbformat": 4,
 "nbformat_minor": 2
}
